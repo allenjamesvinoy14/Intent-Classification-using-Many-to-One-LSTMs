{
 "cells": [
  {
   "cell_type": "code",
   "execution_count": 11,
   "metadata": {},
   "outputs": [],
   "source": [
    "from pprint import pprint\n",
    "from autocorrect import spell\n",
    "import pandas as pd\n",
    "import numpy as np\n",
    "import string\n",
    "import copy\n",
    "from nltk.tokenize import TreebankWordTokenizer\n",
    "from stop_words import get_stop_words\n",
    "from nltk.stem.porter import PorterStemmer\n",
    "from nltk.tokenize import RegexpTokenizer\n",
    "from keras.preprocessing.text import Tokenizer\n",
    "from keras.preprocessing import sequence\n",
    "from sklearn.feature_extraction.text import CountVectorizer, TfidfVectorizer\n",
    "from sklearn import metrics\n",
    "import matplotlib.pyplot as plt\n",
    "%matplotlib inline\n",
    "import seaborn as sns"
   ]
  },
  {
   "cell_type": "code",
   "execution_count": 12,
   "metadata": {
    "collapsed": true
   },
   "outputs": [],
   "source": [
    "def read_data(filename):\n",
    "    df = pd.read_csv(filename, encoding = 'UTF-8')\n",
    "    return df\n",
    "\n",
    "def xy_separator(df):\n",
    "    X = pd.Series(df.iloc[:, 0])\n",
    "    y = df.iloc[:, 1:]\n",
    "    return X, y\n",
    "\n",
    "def multi_label_binarizer(df):\n",
    "    df = df.astype(str).replace({'T':1,'F':0})\n",
    "    return df"
   ]
  },
  {
   "cell_type": "code",
   "execution_count": 13,
   "metadata": {
    "collapsed": true
   },
   "outputs": [],
   "source": [
    "train = read_data('C:\\\\Machine Learning\\\\haptik_text_classification\\\\data\\\\train_data.csv')\n",
    "test  = read_data('C:\\\\Machine Learning\\\\haptik_text_classification\\\\data\\\\test_data.csv')"
   ]
  },
  {
   "cell_type": "code",
   "execution_count": 14,
   "metadata": {
    "collapsed": true
   },
   "outputs": [],
   "source": [
    "X_train, y_train = xy_separator(train)\n",
    "X_test, y_test = xy_separator(test)"
   ]
  },
  {
   "cell_type": "code",
   "execution_count": 15,
   "metadata": {
    "collapsed": true
   },
   "outputs": [],
   "source": [
    "y_test = multi_label_binarizer(y_test)\n",
    "y_train = multi_label_binarizer(y_train)"
   ]
  },
  {
   "cell_type": "code",
   "execution_count": 16,
   "metadata": {
    "collapsed": true
   },
   "outputs": [],
   "source": [
    "max_words = 1000\n",
    "max_len = 150\n",
    "def preprocess(list_of_X, custom_stop = []):\n",
    "    en_stop = get_stop_words('en')\n",
    "    en_stop.extend(custom_stop)\n",
    "    tokenizer = TreebankWordTokenizer()\n",
    "    p_stemmer = PorterStemmer()\n",
    "    list_of_X = list_of_X.apply(lambda row: row.lower())\n",
    "    tok = Tokenizer(num_words=max_words)\n",
    "    tok.fit_on_texts(list_of_X)\n",
    "    sequences = tok.texts_to_sequences(list_of_X)\n",
    "    sequences_matrix = sequence.pad_sequences(sequences,maxlen=max_len)\n",
    "    return sequences_matrix"
   ]
  },
  {
   "cell_type": "code",
   "execution_count": 17,
   "metadata": {},
   "outputs": [],
   "source": [
    "X_test = preprocess(X_test)\n",
    "X_train = preprocess(X_train)\n"
   ]
  },
  {
   "cell_type": "code",
   "execution_count": 18,
   "metadata": {},
   "outputs": [
    {
     "data": {
      "text/plain": [
       "(40659, 9)"
      ]
     },
     "execution_count": 18,
     "metadata": {},
     "output_type": "execute_result"
    }
   ],
   "source": [
    "y_train=np.array(y_train)\n",
    "y_train.shape"
   ]
  },
  {
   "cell_type": "code",
   "execution_count": 19,
   "metadata": {
    "collapsed": true
   },
   "outputs": [],
   "source": [
    "X_train=X_train.reshape(1,40659,150)\n",
    "y_train=y_train.reshape(1,40659,9)"
   ]
  },
  {
   "cell_type": "code",
   "execution_count": 20,
   "metadata": {
    "collapsed": true
   },
   "outputs": [],
   "source": [
    "y_train = copy.deepcopy(y_train)\n",
    "y_test = copy.deepcopy(y_test)"
   ]
  },
  {
   "cell_type": "code",
   "execution_count": 21,
   "metadata": {
    "collapsed": true
   },
   "outputs": [],
   "source": [
    "from keras.models import Sequential\n",
    "from keras.layers import Dense, Activation, Embedding, Merge, Flatten,LSTM"
   ]
  },
  {
   "cell_type": "code",
   "execution_count": 22,
   "metadata": {
    "collapsed": true
   },
   "outputs": [],
   "source": [
    "model = Sequential()\n",
    "model.add(LSTM(50,input_shape=(40659,150),return_sequences=True,dropout=0.2))\n",
    "model.add(Dense(9,activation='softmax'))"
   ]
  },
  {
   "cell_type": "code",
   "execution_count": 23,
   "metadata": {
    "collapsed": true
   },
   "outputs": [],
   "source": [
    "model.compile(optimizer='adagrad', loss='categorical_crossentropy',metrics=['accuracy'])"
   ]
  },
  {
   "cell_type": "code",
   "execution_count": 24,
   "metadata": {},
   "outputs": [
    {
     "name": "stdout",
     "output_type": "stream",
     "text": [
      "Epoch 1/100\n",
      "1/1 [==============================] - 30s 30s/step - loss: 2.5757 - acc: 0.1582\n",
      "Epoch 2/100\n",
      "1/1 [==============================] - 29s 29s/step - loss: 2.4675 - acc: 0.2358\n",
      "Epoch 3/100\n",
      "1/1 [==============================] - 28s 28s/step - loss: 2.4336 - acc: 0.2453\n",
      "Epoch 4/100\n",
      "1/1 [==============================] - 28s 28s/step - loss: 2.3774 - acc: 0.2802\n",
      "Epoch 5/100\n",
      "1/1 [==============================] - 29s 29s/step - loss: 2.4018 - acc: 0.2804\n",
      "Epoch 6/100\n",
      "1/1 [==============================] - 29s 29s/step - loss: 2.3915 - acc: 0.2694\n",
      "Epoch 7/100\n",
      "1/1 [==============================] - 28s 28s/step - loss: 2.3638 - acc: 0.2873\n",
      "Epoch 8/100\n",
      "1/1 [==============================] - 29s 29s/step - loss: 2.3406 - acc: 0.3191\n",
      "Epoch 9/100\n",
      "1/1 [==============================] - 29s 29s/step - loss: 2.3367 - acc: 0.3077\n",
      "Epoch 10/100\n",
      "1/1 [==============================] - 29s 29s/step - loss: 2.3453 - acc: 0.3137\n",
      "Epoch 11/100\n",
      "1/1 [==============================] - 29s 29s/step - loss: 2.3275 - acc: 0.3023\n",
      "Epoch 12/100\n",
      "1/1 [==============================] - 29s 29s/step - loss: 2.3548 - acc: 0.2874\n",
      "Epoch 13/100\n",
      "1/1 [==============================] - 29s 29s/step - loss: 2.2947 - acc: 0.3325\n",
      "Epoch 14/100\n",
      "1/1 [==============================] - 29s 29s/step - loss: 2.3193 - acc: 0.3173\n",
      "Epoch 15/100\n",
      "1/1 [==============================] - 29s 29s/step - loss: 2.3340 - acc: 0.3054\n",
      "Epoch 16/100\n",
      "1/1 [==============================] - 29s 29s/step - loss: 2.2941 - acc: 0.3155\n",
      "Epoch 17/100\n",
      "1/1 [==============================] - 29s 29s/step - loss: 2.3084 - acc: 0.3155\n",
      "Epoch 18/100\n",
      "1/1 [==============================] - 29s 29s/step - loss: 2.3181 - acc: 0.3309\n",
      "Epoch 19/100\n",
      "1/1 [==============================] - 29s 29s/step - loss: 2.3896 - acc: 0.2667\n",
      "Epoch 20/100\n",
      "1/1 [==============================] - 29s 29s/step - loss: 2.3158 - acc: 0.3065\n",
      "Epoch 21/100\n",
      "1/1 [==============================] - 29s 29s/step - loss: 2.3138 - acc: 0.3086\n",
      "Epoch 22/100\n",
      "1/1 [==============================] - 29s 29s/step - loss: 2.2906 - acc: 0.3335\n",
      "Epoch 23/100\n",
      "1/1 [==============================] - 29s 29s/step - loss: 2.2652 - acc: 0.3339\n",
      "Epoch 24/100\n",
      "1/1 [==============================] - 29s 29s/step - loss: 2.2545 - acc: 0.3406\n",
      "Epoch 25/100\n",
      "1/1 [==============================] - 29s 29s/step - loss: 2.2663 - acc: 0.3369\n",
      "Epoch 26/100\n",
      "1/1 [==============================] - 29s 29s/step - loss: 2.2622 - acc: 0.3405\n",
      "Epoch 27/100\n",
      "1/1 [==============================] - 29s 29s/step - loss: 2.2450 - acc: 0.3520\n",
      "Epoch 28/100\n",
      "1/1 [==============================] - 29s 29s/step - loss: 2.2556 - acc: 0.3432\n",
      "Epoch 29/100\n",
      "1/1 [==============================] - 29s 29s/step - loss: 2.2616 - acc: 0.3517\n",
      "Epoch 30/100\n",
      "1/1 [==============================] - 29s 29s/step - loss: 2.2541 - acc: 0.3436\n",
      "Epoch 31/100\n",
      "1/1 [==============================] - 29s 29s/step - loss: 2.2969 - acc: 0.3044\n",
      "Epoch 32/100\n",
      "1/1 [==============================] - 29s 29s/step - loss: 2.2509 - acc: 0.3543\n",
      "Epoch 33/100\n",
      "1/1 [==============================] - 29s 29s/step - loss: 2.2208 - acc: 0.3623\n",
      "Epoch 34/100\n",
      "1/1 [==============================] - 30s 30s/step - loss: 2.2766 - acc: 0.3209\n",
      "Epoch 35/100\n",
      "1/1 [==============================] - 29s 29s/step - loss: 2.2130 - acc: 0.3766\n",
      "Epoch 36/100\n",
      "1/1 [==============================] - 29s 29s/step - loss: 2.2378 - acc: 0.3646\n",
      "Epoch 37/100\n",
      "1/1 [==============================] - 29s 29s/step - loss: 2.2332 - acc: 0.3769\n",
      "Epoch 38/100\n",
      "1/1 [==============================] - 29s 29s/step - loss: 2.2729 - acc: 0.3138\n",
      "Epoch 39/100\n",
      "1/1 [==============================] - 29s 29s/step - loss: 2.2016 - acc: 0.3730\n",
      "Epoch 40/100\n",
      "1/1 [==============================] - 29s 29s/step - loss: 2.1868 - acc: 0.3762\n",
      "Epoch 41/100\n",
      "1/1 [==============================] - 29s 29s/step - loss: 2.1920 - acc: 0.3729\n",
      "Epoch 42/100\n",
      "1/1 [==============================] - 29s 29s/step - loss: 2.1541 - acc: 0.4072\n",
      "Epoch 43/100\n",
      "1/1 [==============================] - 29s 29s/step - loss: 2.1984 - acc: 0.3709\n",
      "Epoch 44/100\n",
      "1/1 [==============================] - 29s 29s/step - loss: 2.1634 - acc: 0.4046\n",
      "Epoch 45/100\n",
      "1/1 [==============================] - 29s 29s/step - loss: 2.1376 - acc: 0.4067\n",
      "Epoch 46/100\n",
      "1/1 [==============================] - 29s 29s/step - loss: 2.1241 - acc: 0.4188\n",
      "Epoch 47/100\n",
      "1/1 [==============================] - 29s 29s/step - loss: 2.2079 - acc: 0.3894\n",
      "Epoch 48/100\n",
      "1/1 [==============================] - 29s 29s/step - loss: 2.1277 - acc: 0.4037\n",
      "Epoch 49/100\n",
      "1/1 [==============================] - 29s 29s/step - loss: 2.1289 - acc: 0.4168\n",
      "Epoch 50/100\n",
      "1/1 [==============================] - 29s 29s/step - loss: 2.1437 - acc: 0.3999\n",
      "Epoch 51/100\n",
      "1/1 [==============================] - 29s 29s/step - loss: 2.1007 - acc: 0.4256\n",
      "Epoch 52/100\n",
      "1/1 [==============================] - 29s 29s/step - loss: 2.0811 - acc: 0.4299\n",
      "Epoch 53/100\n",
      "1/1 [==============================] - 29s 29s/step - loss: 2.1066 - acc: 0.4147\n",
      "Epoch 54/100\n",
      "1/1 [==============================] - 30s 30s/step - loss: 2.0968 - acc: 0.4270\n",
      "Epoch 55/100\n",
      "1/1 [==============================] - 29s 29s/step - loss: 2.1376 - acc: 0.4179\n",
      "Epoch 56/100\n",
      "1/1 [==============================] - 30s 30s/step - loss: 2.1175 - acc: 0.4207\n",
      "Epoch 57/100\n",
      "1/1 [==============================] - 29s 29s/step - loss: 2.1481 - acc: 0.3964\n",
      "Epoch 58/100\n",
      "1/1 [==============================] - 29s 29s/step - loss: 2.1711 - acc: 0.3662\n",
      "Epoch 59/100\n",
      "1/1 [==============================] - 29s 29s/step - loss: 2.1148 - acc: 0.4288\n",
      "Epoch 60/100\n",
      "1/1 [==============================] - 29s 29s/step - loss: 2.1483 - acc: 0.4026\n",
      "Epoch 61/100\n",
      "1/1 [==============================] - 29s 29s/step - loss: 2.0934 - acc: 0.4262\n",
      "Epoch 62/100\n",
      "1/1 [==============================] - 29s 29s/step - loss: 2.0817 - acc: 0.4335\n",
      "Epoch 63/100\n",
      "1/1 [==============================] - 29s 29s/step - loss: 2.0730 - acc: 0.4326\n",
      "Epoch 64/100\n",
      "1/1 [==============================] - 29s 29s/step - loss: 2.1060 - acc: 0.4082\n",
      "Epoch 65/100\n",
      "1/1 [==============================] - 29s 29s/step - loss: 2.1046 - acc: 0.4108\n",
      "Epoch 66/100\n",
      "1/1 [==============================] - 29s 29s/step - loss: 2.0663 - acc: 0.4344\n",
      "Epoch 67/100\n",
      "1/1 [==============================] - 29s 29s/step - loss: 2.0730 - acc: 0.4325\n",
      "Epoch 68/100\n",
      "1/1 [==============================] - 29s 29s/step - loss: 2.1385 - acc: 0.4141\n",
      "Epoch 69/100\n",
      "1/1 [==============================] - 29s 29s/step - loss: 2.1066 - acc: 0.4133\n",
      "Epoch 70/100\n",
      "1/1 [==============================] - 29s 29s/step - loss: 2.1234 - acc: 0.4147\n",
      "Epoch 71/100\n",
      "1/1 [==============================] - 29s 29s/step - loss: 2.0601 - acc: 0.4356\n",
      "Epoch 72/100\n",
      "1/1 [==============================] - 28s 28s/step - loss: 2.0608 - acc: 0.4333\n",
      "Epoch 73/100\n",
      "1/1 [==============================] - 29s 29s/step - loss: 2.1534 - acc: 0.4025\n",
      "Epoch 74/100\n",
      "1/1 [==============================] - 29s 29s/step - loss: 2.0836 - acc: 0.4340\n",
      "Epoch 75/100\n",
      "1/1 [==============================] - 29s 29s/step - loss: 2.0680 - acc: 0.4306\n",
      "Epoch 76/100\n",
      "1/1 [==============================] - 29s 29s/step - loss: 2.1091 - acc: 0.3953\n",
      "Epoch 77/100\n",
      "1/1 [==============================] - 29s 29s/step - loss: 2.0696 - acc: 0.4337\n",
      "Epoch 78/100\n",
      "1/1 [==============================] - 29s 29s/step - loss: 2.0740 - acc: 0.4313\n",
      "Epoch 79/100\n",
      "1/1 [==============================] - 29s 29s/step - loss: 2.0598 - acc: 0.4330\n",
      "Epoch 80/100\n",
      "1/1 [==============================] - 29s 29s/step - loss: 2.0453 - acc: 0.4363\n",
      "Epoch 81/100\n",
      "1/1 [==============================] - 29s 29s/step - loss: 2.0591 - acc: 0.4325\n",
      "Epoch 82/100\n",
      "1/1 [==============================] - 29s 29s/step - loss: 2.0851 - acc: 0.4189\n",
      "Epoch 83/100\n",
      "1/1 [==============================] - 29s 29s/step - loss: 2.0620 - acc: 0.4336\n",
      "Epoch 84/100\n",
      "1/1 [==============================] - 29s 29s/step - loss: 2.0548 - acc: 0.4310\n",
      "Epoch 85/100\n",
      "1/1 [==============================] - 29s 29s/step - loss: 2.0556 - acc: 0.4352\n",
      "Epoch 86/100\n",
      "1/1 [==============================] - 29s 29s/step - loss: 2.0460 - acc: 0.4372\n",
      "Epoch 87/100\n",
      "1/1 [==============================] - 29s 29s/step - loss: 2.0625 - acc: 0.4257\n",
      "Epoch 88/100\n",
      "1/1 [==============================] - 29s 29s/step - loss: 2.0884 - acc: 0.4191\n"
     ]
    },
    {
     "name": "stdout",
     "output_type": "stream",
     "text": [
      "Epoch 89/100\n",
      "1/1 [==============================] - 29s 29s/step - loss: 2.0798 - acc: 0.4230\n",
      "Epoch 90/100\n",
      "1/1 [==============================] - 29s 29s/step - loss: 2.0408 - acc: 0.4373\n",
      "Epoch 91/100\n",
      "1/1 [==============================] - 30s 30s/step - loss: 2.0522 - acc: 0.4352\n",
      "Epoch 92/100\n",
      "1/1 [==============================] - 29s 29s/step - loss: 2.0574 - acc: 0.4324\n",
      "Epoch 93/100\n",
      "1/1 [==============================] - 29s 29s/step - loss: 2.0466 - acc: 0.4342\n",
      "Epoch 94/100\n",
      "1/1 [==============================] - 29s 29s/step - loss: 2.0529 - acc: 0.4322\n",
      "Epoch 95/100\n",
      "1/1 [==============================] - 29s 29s/step - loss: 2.0871 - acc: 0.4113\n",
      "Epoch 96/100\n",
      "1/1 [==============================] - 30s 30s/step - loss: 2.0508 - acc: 0.4355\n",
      "Epoch 97/100\n",
      "1/1 [==============================] - 30s 30s/step - loss: 2.0401 - acc: 0.4329\n",
      "Epoch 98/100\n",
      "1/1 [==============================] - 30s 30s/step - loss: 2.0280 - acc: 0.4373\n",
      "Epoch 99/100\n",
      "1/1 [==============================] - 30s 30s/step - loss: 2.0423 - acc: 0.4340\n",
      "Epoch 100/100\n",
      "1/1 [==============================] - 29s 29s/step - loss: 2.0251 - acc: 0.4366\n"
     ]
    },
    {
     "data": {
      "text/plain": [
       "<keras.callbacks.History at 0x18ca57d59e8>"
      ]
     },
     "execution_count": 24,
     "metadata": {},
     "output_type": "execute_result"
    }
   ],
   "source": [
    "model.fit(X_train,y_train,batch_size=1000,epochs=100)"
   ]
  },
  {
   "cell_type": "code",
   "execution_count": null,
   "metadata": {
    "collapsed": true
   },
   "outputs": [],
   "source": []
  }
 ],
 "metadata": {
  "kernelspec": {
   "display_name": "Python 3",
   "language": "python",
   "name": "python3"
  },
  "language_info": {
   "codemirror_mode": {
    "name": "ipython",
    "version": 3
   },
   "file_extension": ".py",
   "mimetype": "text/x-python",
   "name": "python",
   "nbconvert_exporter": "python",
   "pygments_lexer": "ipython3",
   "version": "3.5.4"
  }
 },
 "nbformat": 4,
 "nbformat_minor": 2
}
